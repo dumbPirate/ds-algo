{
 "cells": [
  {
   "cell_type": "markdown",
   "metadata": {
    "ExecuteTime": {
     "end_time": "2019-10-09T05:38:48.239768Z",
     "start_time": "2019-10-09T05:38:48.233756Z"
    }
   },
   "source": [
    "# SORTING ALGORITHMS"
   ]
  },
  {
   "cell_type": "markdown",
   "metadata": {},
   "source": [
    "## 1. Bubble Sort  $(O(N^2))$"
   ]
  },
  {
   "cell_type": "markdown",
   "metadata": {},
   "source": [
    "##### (not optimized) "
   ]
  },
  {
   "cell_type": "code",
   "execution_count": 61,
   "metadata": {
    "ExecuteTime": {
     "end_time": "2019-10-09T16:18:38.494632Z",
     "start_time": "2019-10-09T16:18:38.407715Z"
    }
   },
   "outputs": [
    {
     "data": {
      "text/plain": [
       "[1, 2, 5, 7, 8, 9, 10, 11, 12]"
      ]
     },
     "execution_count": 61,
     "metadata": {},
     "output_type": "execute_result"
    }
   ],
   "source": [
    "def bubbleSort(arr):\n",
    "    for i in range(len(arr)):\n",
    "        for j in range(len(arr)-i-1): # so loop runs 1 less each time\n",
    "            #print(arr,arr[j],arr[j+1])\n",
    "            if arr[j]>arr[j+1]: arr[j],arr[j+1] = arr[j+1],arr[j]\n",
    "    return arr\n",
    "bubbleSort([2,1,5,7,8,9,10,11,12])"
   ]
  },
  {
   "cell_type": "markdown",
   "metadata": {
    "ExecuteTime": {
     "end_time": "2019-10-09T06:04:03.442684Z",
     "start_time": "2019-10-09T06:04:03.434707Z"
    }
   },
   "source": [
    "##### (optimized)"
   ]
  },
  {
   "cell_type": "code",
   "execution_count": 62,
   "metadata": {
    "ExecuteTime": {
     "end_time": "2019-10-09T16:18:43.345287Z",
     "start_time": "2019-10-09T16:18:43.330296Z"
    },
    "scrolled": true
   },
   "outputs": [
    {
     "data": {
      "text/plain": [
       "[1, 2, 5, 7, 8, 9, 10, 11, 12]"
      ]
     },
     "execution_count": 62,
     "metadata": {},
     "output_type": "execute_result"
    }
   ],
   "source": [
    "def bubbleSort(arr):\n",
    "    for i in range(len(arr)):\n",
    "        swap = True\n",
    "        for j in range(len(arr)-i-1):\n",
    "            #print(arr,arr[j],arr[j+1])\n",
    "            if arr[j]>arr[j+1]:\n",
    "                arr[j],arr[j+1] = arr[j+1],arr[j]\n",
    "                swap = False\n",
    "        if swap: break\n",
    "    return arr\n",
    "bubbleSort([2,1,5,7,8,9,10,11,12])"
   ]
  },
  {
   "cell_type": "markdown",
   "metadata": {},
   "source": [
    "## 2. Selection Sort $(O(N^2))$"
   ]
  },
  {
   "cell_type": "code",
   "execution_count": 2,
   "metadata": {
    "ExecuteTime": {
     "end_time": "2019-10-11T07:09:33.071148Z",
     "start_time": "2019-10-11T07:09:32.997747Z"
    }
   },
   "outputs": [
    {
     "data": {
      "text/plain": [
       "[1, 2, 9, 10, 12, 17, 28, 31, 41]"
      ]
     },
     "execution_count": 2,
     "metadata": {},
     "output_type": "execute_result"
    }
   ],
   "source": [
    "def selectionSort(arr):\n",
    "    for i in range(len(arr)):\n",
    "        min = i\n",
    "        for j in range(i+1, len(arr)):\n",
    "            if arr[j]<arr[min]: min = j\n",
    "        if i != min: arr[i],arr[min] = arr[min], arr[i]\n",
    "#         print(arr)\n",
    "    return arr\n",
    "selectionSort([2,1,31,17,28,9,10,41,12])"
   ]
  },
  {
   "cell_type": "markdown",
   "metadata": {},
   "source": [
    "## Insertion Sort $(O(N^2))$"
   ]
  },
  {
   "cell_type": "code",
   "execution_count": 10,
   "metadata": {
    "ExecuteTime": {
     "end_time": "2019-10-14T19:06:25.598020Z",
     "start_time": "2019-10-14T19:06:25.588024Z"
    },
    "code_folding": []
   },
   "outputs": [
    {
     "data": {
      "text/plain": [
       "[0, 1, 2, 31]"
      ]
     },
     "execution_count": 10,
     "metadata": {},
     "output_type": "execute_result"
    }
   ],
   "source": [
    "def insertionSort(arr):\n",
    "    for i in range(1,len(arr)):\n",
    "#         x = arr[i]\n",
    "        for j in range(i-1,-1,-1):\n",
    "#             y = arr[j]\n",
    "            if arr[i]<arr[j]:\n",
    "                arr[i],arr[j] = arr[j],arr[i]\n",
    "                i-=1\n",
    "                \n",
    "    return arr\n",
    "insertionSort([2,1,31,0])"
   ]
  },
  {
   "cell_type": "code",
   "execution_count": 16,
   "metadata": {
    "ExecuteTime": {
     "end_time": "2019-10-14T19:07:42.104122Z",
     "start_time": "2019-10-14T19:07:42.100121Z"
    }
   },
   "outputs": [],
   "source": [
    "a = 2222\n",
    "x = [1,2,2]\n",
    "z = \"asdfgfasssf\"\n",
    "u = z[6]"
   ]
  },
  {
   "cell_type": "code",
   "execution_count": null,
   "metadata": {},
   "outputs": [],
   "source": []
  }
 ],
 "metadata": {
  "kernelspec": {
   "display_name": "Python 3",
   "language": "python",
   "name": "python3"
  },
  "language_info": {
   "codemirror_mode": {
    "name": "ipython",
    "version": 3
   },
   "file_extension": ".py",
   "mimetype": "text/x-python",
   "name": "python",
   "nbconvert_exporter": "python",
   "pygments_lexer": "ipython3",
   "version": "3.7.2"
  },
  "varInspector": {
   "cols": {
    "lenName": 16,
    "lenType": 16,
    "lenVar": 40
   },
   "kernels_config": {
    "python": {
     "delete_cmd_postfix": "",
     "delete_cmd_prefix": "del ",
     "library": "var_list.py",
     "varRefreshCmd": "print(var_dic_list())"
    },
    "r": {
     "delete_cmd_postfix": ") ",
     "delete_cmd_prefix": "rm(",
     "library": "var_list.r",
     "varRefreshCmd": "cat(var_dic_list()) "
    }
   },
   "oldHeight": 571.33011,
   "position": {
    "height": "32.5229px",
    "left": "1062.84px",
    "right": "20px",
    "top": "77.9862px",
    "width": "345.092px"
   },
   "types_to_exclude": [
    "module",
    "function",
    "builtin_function_or_method",
    "instance",
    "_Feature"
   ],
   "varInspector_section_display": "none",
   "window_display": true
  }
 },
 "nbformat": 4,
 "nbformat_minor": 2
}
