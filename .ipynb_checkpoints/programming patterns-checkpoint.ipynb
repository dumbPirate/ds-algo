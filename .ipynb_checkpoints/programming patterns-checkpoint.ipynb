{
 "cells": [
  {
   "cell_type": "markdown",
   "metadata": {},
   "source": [
    "# PROGRAMMING PATTERNS"
   ]
  },
  {
   "cell_type": "markdown",
   "metadata": {},
   "source": [
    "## Frequency Counter"
   ]
  },
  {
   "cell_type": "code",
   "execution_count": 2,
   "metadata": {
    "ExecuteTime": {
     "end_time": "2019-10-05T23:05:57.186835Z",
     "start_time": "2019-10-05T23:05:57.176840Z"
    }
   },
   "outputs": [
    {
     "name": "stdout",
     "output_type": "stream",
     "text": [
      " 1 :  5\n",
      " 5 :  2\n",
      " 3 :  3\n",
      " 4 :  3\n",
      " 2 :  4\n"
     ]
    }
   ],
   "source": [
    "# Python program to count the frequency of \n",
    "# elements in a list using a dictionary\n",
    "# Time Complexity:O(N), where N is the length of the list\n",
    "\n",
    "def CountFrequency(my_list): \n",
    "\n",
    "\t# Creating an empty dictionary \n",
    "\tfreq = {} \n",
    "\tfor item in my_list: \n",
    "\t\tif (item in freq): \n",
    "\t\t\tfreq[item] += 1\n",
    "\t\telse: \n",
    "\t\t\tfreq[item] = 1\n",
    "\n",
    "\tfor key, value in freq.items(): \n",
    "\t\tprint (\"% d : % d\"%(key, value)) \n",
    "\n",
    "# Driver function \n",
    "if __name__ == \"__main__\": \n",
    "\tmy_list =[1, 1, 1, 5, 5, 3, 1, 3, 3, 1, 4, 4, 4, 2, 2, 2, 2] \n",
    "\n",
    "\tCountFrequency(my_list) "
   ]
  },
  {
   "cell_type": "code",
   "execution_count": 13,
   "metadata": {
    "ExecuteTime": {
     "end_time": "2019-10-05T23:12:08.000067Z",
     "start_time": "2019-10-05T23:12:07.990074Z"
    }
   },
   "outputs": [
    {
     "name": "stdout",
     "output_type": "stream",
     "text": [
      " 1 :  5\n",
      " 5 :  2\n",
      " 3 :  3\n",
      " 4 :  3\n",
      " 2 :  4\n"
     ]
    }
   ],
   "source": [
    "# Python program to count the frequency of \n",
    "# elements in a list using a dictionary \n",
    "# Time Complexity:O(N), where N is the length of the list\n",
    "\n",
    "def CountFrequency(my_list):\n",
    "    # Creating an empty dictionary \n",
    "    freq = {}\n",
    "    for items in my_list:\n",
    "        freq[items] = my_list.count(items)\n",
    "    for key, value in freq.items(): \n",
    "        print (\"% d : % d\"%(key, value)) \n",
    "\n",
    "# Driver function \n",
    "if __name__ == \"__main__\": \n",
    "    my_list =[1, 1, 1, 5, 5, 3, 1, 3, 3, 1, 4, 4, 4, 2, 2, 2, 2] \n",
    "    CountFrequency(my_list) "
   ]
  },
  {
   "cell_type": "code",
   "execution_count": 17,
   "metadata": {
    "ExecuteTime": {
     "end_time": "2019-10-05T23:15:45.012127Z",
     "start_time": "2019-10-05T23:15:45.002132Z"
    }
   },
   "outputs": [
    {
     "data": {
      "text/plain": [
       "{'a': 6, 'b': 6}"
      ]
     },
     "execution_count": 17,
     "metadata": {},
     "output_type": "execute_result"
    }
   ],
   "source": [
    "a = {'a':5,'b':6}\n",
    "a['a'] = 6\n",
    "a"
   ]
  },
  {
   "cell_type": "code",
   "execution_count": 22,
   "metadata": {
    "ExecuteTime": {
     "end_time": "2019-10-05T23:34:32.790991Z",
     "start_time": "2019-10-05T23:34:32.781998Z"
    }
   },
   "outputs": [
    {
     "name": "stdout",
     "output_type": "stream",
     "text": [
      "{'a': 3, 'n': 1, 'g': 1, 'r': 1, 'm': 1} {'m': 1, 'a': 3, 'g': 2, 'n': 1}\n",
      "False\n"
     ]
    }
   ],
   "source": [
    "def anagram(a,b):\n",
    "    if len(a) != len(b):\n",
    "        return False\n",
    "    a1 = {}\n",
    "    b1 = {}\n",
    "    for i in a:\n",
    "        if i in a1:\n",
    "            a1[i] +=1\n",
    "        else:\n",
    "            a1[i] = 1\n",
    "    for i in b:\n",
    "        if i in b1:\n",
    "            b1[i] += 1\n",
    "        else:\n",
    "            b1[i] = 1\n",
    "    print(a1,b1)\n",
    "    print(a1 == b1)\n",
    "anagram('anagram', 'magagan')"
   ]
  },
  {
   "cell_type": "markdown",
   "metadata": {},
   "source": [
    "## Recursion"
   ]
  },
  {
   "cell_type": "code",
   "execution_count": 65,
   "metadata": {
    "ExecuteTime": {
     "end_time": "2019-10-07T04:45:42.778816Z",
     "start_time": "2019-10-07T04:45:42.104216Z"
    }
   },
   "outputs": [],
   "source": [
    "def powerSum(X, N, i = 1):\n",
    "    pw = i**N\n",
    "    print(pw)\n",
    "    if pw > X:\n",
    "        print('0')\n",
    "        return 0\n",
    "    elif pw == X:\n",
    "        print('1')\n",
    "        return 1\n",
    "    else:\n",
    "        print(X,N,i,X-pw)\n",
    "        return powerSum(X, N, i+1) + powerSum(X-pw, N, i+1)\n",
    "# powerSum(80,2)"
   ]
  },
  {
   "cell_type": "code",
   "execution_count": null,
   "metadata": {},
   "outputs": [],
   "source": []
  }
 ],
 "metadata": {
  "kernelspec": {
   "display_name": "Python 3",
   "language": "python",
   "name": "python3"
  },
  "language_info": {
   "codemirror_mode": {
    "name": "ipython",
    "version": 3
   },
   "file_extension": ".py",
   "mimetype": "text/x-python",
   "name": "python",
   "nbconvert_exporter": "python",
   "pygments_lexer": "ipython3",
   "version": "3.7.2"
  },
  "varInspector": {
   "cols": {
    "lenName": 16,
    "lenType": 16,
    "lenVar": 40
   },
   "kernels_config": {
    "python": {
     "delete_cmd_postfix": "",
     "delete_cmd_prefix": "del ",
     "library": "var_list.py",
     "varRefreshCmd": "print(var_dic_list())"
    },
    "r": {
     "delete_cmd_postfix": ") ",
     "delete_cmd_prefix": "rm(",
     "library": "var_list.r",
     "varRefreshCmd": "cat(var_dic_list()) "
    }
   },
   "types_to_exclude": [
    "module",
    "function",
    "builtin_function_or_method",
    "instance",
    "_Feature"
   ],
   "window_display": false
  }
 },
 "nbformat": 4,
 "nbformat_minor": 2
}
