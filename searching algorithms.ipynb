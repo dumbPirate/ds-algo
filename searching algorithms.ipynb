{
 "cells": [
  {
   "cell_type": "markdown",
   "metadata": {},
   "source": [
    "# Search Algorithms"
   ]
  },
  {
   "cell_type": "markdown",
   "metadata": {},
   "source": [
    "## 1. Binary Search"
   ]
  },
  {
   "cell_type": "markdown",
   "metadata": {},
   "source": [
    "### 1.1 Iterative"
   ]
  },
  {
   "cell_type": "code",
   "execution_count": 45,
   "metadata": {
    "ExecuteTime": {
     "end_time": "2019-10-07T21:50:08.966193Z",
     "start_time": "2019-10-07T21:50:08.954199Z"
    }
   },
   "outputs": [
    {
     "data": {
      "text/plain": [
       "-1"
      ]
     },
     "execution_count": 45,
     "metadata": {},
     "output_type": "execute_result"
    }
   ],
   "source": [
    "def binarySearch(arr, e):\n",
    "    i = 0\n",
    "    k = len(arr)-1\n",
    "    j = (i+k)//2\n",
    "    while(arr[j] != e and i<=k):\n",
    "        if e<arr[j]: k = j-1\n",
    "        else: i = j+1\n",
    "        j = (i+k)//2\n",
    "    if arr[j] == e: return j\n",
    "    else: return -1\n",
    "binarySearch([1,2,3,4,5,6,7], 8) "
   ]
  },
  {
   "cell_type": "markdown",
   "metadata": {
    "ExecuteTime": {
     "end_time": "2019-10-07T21:53:21.613474Z",
     "start_time": "2019-10-07T21:53:21.596478Z"
    }
   },
   "source": [
    "### 1.2 Recursive"
   ]
  },
  {
   "cell_type": "code",
   "execution_count": 44,
   "metadata": {
    "ExecuteTime": {
     "end_time": "2019-10-07T21:49:40.651458Z",
     "start_time": "2019-10-07T21:49:40.633469Z"
    }
   },
   "outputs": [
    {
     "data": {
      "text/plain": [
       "-1"
      ]
     },
     "execution_count": 44,
     "metadata": {},
     "output_type": "execute_result"
    }
   ],
   "source": [
    "def binarySearch(arr, e, i=0, k = None):\n",
    "    if k == None:k = len(arr)-1\n",
    "    if k >= i: \n",
    "        j = i + (k - i)//2\n",
    "        if arr[j] == e: return j\n",
    "        elif arr[j] > e: return binarySearch(arr, e, i, j-1)  \n",
    "        else: return binarySearch(arr, e, j+1, k) \n",
    "    else: return -1\n",
    "binarySearch([1,2,3,4,5,6,7],15)"
   ]
  },
  {
   "cell_type": "markdown",
   "metadata": {},
   "source": [
    "## 2. String Search"
   ]
  },
  {
   "cell_type": "markdown",
   "metadata": {},
   "source": [
    "### 2.1 Brute Force"
   ]
  },
  {
   "cell_type": "code",
   "execution_count": 24,
   "metadata": {
    "ExecuteTime": {
     "end_time": "2019-10-08T01:43:36.144215Z",
     "start_time": "2019-10-08T01:43:36.123213Z"
    }
   },
   "outputs": [
    {
     "name": "stdout",
     "output_type": "stream",
     "text": [
      "at 0\n",
      "at 6\n"
     ]
    },
    {
     "data": {
      "text/plain": [
       "2"
      ]
     },
     "execution_count": 24,
     "metadata": {},
     "output_type": "execute_result"
    }
   ],
   "source": [
    "def stringSearch(long, short):\n",
    "    count = 0\n",
    "    for i in range(len(long)):\n",
    "        for j in range(len(short)):\n",
    "            if long[i+j] != short[j]:break\n",
    "            if j == (len(short)-1):\n",
    "                print(\"at\",i)\n",
    "                count += 1\n",
    "    return count\n",
    "stringSearch('lorie loled', 'lo')"
   ]
  },
  {
   "cell_type": "code",
   "execution_count": null,
   "metadata": {},
   "outputs": [],
   "source": []
  }
 ],
 "metadata": {
  "kernelspec": {
   "display_name": "Python 3",
   "language": "python",
   "name": "python3"
  },
  "language_info": {
   "codemirror_mode": {
    "name": "ipython",
    "version": 3
   },
   "file_extension": ".py",
   "mimetype": "text/x-python",
   "name": "python",
   "nbconvert_exporter": "python",
   "pygments_lexer": "ipython3",
   "version": "3.7.2"
  },
  "varInspector": {
   "cols": {
    "lenName": 16,
    "lenType": 16,
    "lenVar": 40
   },
   "kernels_config": {
    "python": {
     "delete_cmd_postfix": "",
     "delete_cmd_prefix": "del ",
     "library": "var_list.py",
     "varRefreshCmd": "print(var_dic_list())"
    },
    "r": {
     "delete_cmd_postfix": ") ",
     "delete_cmd_prefix": "rm(",
     "library": "var_list.r",
     "varRefreshCmd": "cat(var_dic_list()) "
    }
   },
   "types_to_exclude": [
    "module",
    "function",
    "builtin_function_or_method",
    "instance",
    "_Feature"
   ],
   "window_display": false
  }
 },
 "nbformat": 4,
 "nbformat_minor": 2
}
